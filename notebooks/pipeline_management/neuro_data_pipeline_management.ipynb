{
 "cells": [
  {
   "cell_type": "code",
   "execution_count": 1,
   "metadata": {},
   "outputs": [],
   "source": [
    "%load_ext autoreload\n",
    "%autoreload 2"
   ]
  },
  {
   "cell_type": "code",
   "execution_count": 3,
   "metadata": {},
   "outputs": [
    {
     "name": "stdout",
     "output_type": "stream",
     "text": [
      "Connecting synicix@at-database1:3306\n"
     ]
    }
   ],
   "source": [
    "from neuro_data.static_images.data_schemas import *"
   ]
  },
  {
   "cell_type": "code",
   "execution_count": 6,
   "metadata": {
    "scrolled": true
   },
   "outputs": [],
   "source": [
    "from neuro_data.pipeline_management.NeuroDataPipelineManagement import NeuroDataPipelineManagement\n",
    "import datajoint as dj\n",
    "\n",
    "# List the scans you are interested in and run this block\n",
    "target_scans = [\n",
    "    dict(animal_id = 22845, session=7, scan_idx=5),\n",
    "    dict(animal_id = 22845, session=10, scan_idx = 5),\n",
    "    dict(animal_id = 22086, session=2, scan_idx=3)]\n",
    "\n",
    "neurodata_pipeline = NeuroDataPipelineManagement()\n",
    "for scan in target_scans:\n",
    "    pass\n",
    "    #neurodata_pipeline.process_static_scan(scan)\n",
    "    \n"
   ]
  }
 ],
 "metadata": {
  "kernelspec": {
   "display_name": "Python 3",
   "language": "python",
   "name": "python3"
  },
  "language_info": {
   "codemirror_mode": {
    "name": "ipython",
    "version": 3
   },
   "file_extension": ".py",
   "mimetype": "text/x-python",
   "name": "python",
   "nbconvert_exporter": "python",
   "pygments_lexer": "ipython3",
   "version": "3.6.8"
  }
 },
 "nbformat": 4,
 "nbformat_minor": 2
}
